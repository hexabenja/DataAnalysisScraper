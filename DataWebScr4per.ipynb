{
  "nbformat": 4,
  "nbformat_minor": 0,
  "metadata": {
    "colab": {
      "provenance": [],
      "authorship_tag": "ABX9TyPTMT+tIjMcAxncPJ6jb6YE"
    },
    "kernelspec": {
      "name": "python3",
      "display_name": "Python 3"
    },
    "language_info": {
      "name": "python"
    }
  },
  "cells": [
    {
      "cell_type": "markdown",
      "source": [
        "\n",
        "Esta celda instala las bibliotecas necesarias para el web scraping con Langchain, incluidas langchain-community y beautifulsoup4."
      ],
      "metadata": {
        "id": "Afws6J-fCK6C"
      }
    },
    {
      "cell_type": "code",
      "source": [
        "%pip install -qU langchain-community beautifulsoup4"
      ],
      "metadata": {
        "colab": {
          "base_uri": "https://localhost:8080/"
        },
        "id": "2pGcGvrkCPBP",
        "outputId": "3a78d2b7-2f52-481f-ddc3-cca39fd232b0"
      },
      "execution_count": 1,
      "outputs": [
        {
          "output_type": "stream",
          "name": "stdout",
          "text": [
            "\u001b[?25l   \u001b[90m━━━━━━━━━━━━━━━━━━━━━━━━━━━━━━━━━━━━━━━━\u001b[0m \u001b[32m0.0/2.5 MB\u001b[0m \u001b[31m?\u001b[0m eta \u001b[36m-:--:--\u001b[0m\r\u001b[2K   \u001b[91m━━━━━━━━━━\u001b[0m\u001b[91m╸\u001b[0m\u001b[90m━━━━━━━━━━━━━━━━━━━━━━━━━━━━━\u001b[0m \u001b[32m0.7/2.5 MB\u001b[0m \u001b[31m21.1 MB/s\u001b[0m eta \u001b[36m0:00:01\u001b[0m\r\u001b[2K   \u001b[91m━━━━━━━━━━━━━━━━━━━━━━━━━━━━━━━━━━━━━━━\u001b[0m\u001b[91m╸\u001b[0m \u001b[32m2.5/2.5 MB\u001b[0m \u001b[31m47.2 MB/s\u001b[0m eta \u001b[36m0:00:01\u001b[0m\r\u001b[2K   \u001b[90m━━━━━━━━━━━━━━━━━━━━━━━━━━━━━━━━━━━━━━━━\u001b[0m \u001b[32m2.5/2.5 MB\u001b[0m \u001b[31m33.1 MB/s\u001b[0m eta \u001b[36m0:00:00\u001b[0m\n",
            "\u001b[?25h\u001b[?25l   \u001b[90m━━━━━━━━━━━━━━━━━━━━━━━━━━━━━━━━━━━━━━━━\u001b[0m \u001b[32m0.0/64.7 kB\u001b[0m \u001b[31m?\u001b[0m eta \u001b[36m-:--:--\u001b[0m\r\u001b[2K   \u001b[90m━━━━━━━━━━━━━━━━━━━━━━━━━━━━━━━━━━━━━━━━\u001b[0m \u001b[32m64.7/64.7 kB\u001b[0m \u001b[31m4.2 MB/s\u001b[0m eta \u001b[36m0:00:00\u001b[0m\n",
            "\u001b[?25h\u001b[?25l   \u001b[90m━━━━━━━━━━━━━━━━━━━━━━━━━━━━━━━━━━━━━━━━\u001b[0m \u001b[32m0.0/50.9 kB\u001b[0m \u001b[31m?\u001b[0m eta \u001b[36m-:--:--\u001b[0m\r\u001b[2K   \u001b[90m━━━━━━━━━━━━━━━━━━━━━━━━━━━━━━━━━━━━━━━━\u001b[0m \u001b[32m50.9/50.9 kB\u001b[0m \u001b[31m2.9 MB/s\u001b[0m eta \u001b[36m0:00:00\u001b[0m\n",
            "\u001b[?25h\u001b[31mERROR: pip's dependency resolver does not currently take into account all the packages that are installed. This behaviour is the source of the following dependency conflicts.\n",
            "google-colab 1.0.0 requires requests==2.32.4, but you have requests 2.32.5 which is incompatible.\u001b[0m\u001b[31m\n",
            "\u001b[0m"
          ]
        }
      ]
    },
    {
      "cell_type": "markdown",
      "source": [
        "Esta celda importa bs4 y WebBaseLoader para cargar contenido de una página web específica (En este ejemplo catálogo CREST de sodimac)."
      ],
      "metadata": {
        "id": "1poUcbPvBdVT"
      }
    },
    {
      "cell_type": "code",
      "execution_count": 2,
      "metadata": {
        "colab": {
          "base_uri": "https://localhost:8080/"
        },
        "id": "2EC1I3T-A2IN",
        "outputId": "e930c24c-34b6-48d8-d74c-c5a0c0af4eb2"
      },
      "outputs": [
        {
          "output_type": "stream",
          "name": "stderr",
          "text": [
            "WARNING:langchain_community.utils.user_agent:USER_AGENT environment variable not set, consider setting it to identify your requests.\n"
          ]
        }
      ],
      "source": [
        "from langchain_community.document_loaders import WebBaseLoader\n",
        "import bs4"
      ]
    },
    {
      "cell_type": "markdown",
      "source": [
        " Inicializa el loader con la URL y obtiene el documento de forma asíncrona."
      ],
      "metadata": {
        "id": "ktVhGl4PChkr"
      }
    },
    {
      "cell_type": "code",
      "source": [
        "page_url = WebBaseLoader(web_paths= (\"https://www.sodimac.cl/sodimac-cl/marca/CREST\"\n",
        "\n",
        "loader = WebBaseLoader(web_paths=[page_url])\n",
        "docs = []\n",
        "async for doc in loader.alazy_load():\n",
        "    docs.append(doc)\n",
        "\n",
        "assert len(docs) == 1\n",
        "doc = docs[0]"
      ],
      "metadata": {
        "colab": {
          "base_uri": "https://localhost:8080/"
        },
        "id": "WWphbQ6fCNEf",
        "outputId": "e0127b1b-da7b-4ead-92cc-2a0c5d8876bd"
      },
      "execution_count": 3,
      "outputs": [
        {
          "output_type": "stream",
          "name": "stderr",
          "text": [
            "Fetching pages: 100%|##########| 1/1 [00:03<00:00,  3.46s/it]\n"
          ]
        }
      ]
    },
    {
      "cell_type": "markdown",
      "source": [
        "Esta celda inicializa WebBaseLoader nuevamente, pero esta vez con parámetros adicionales para `bs_kwargs` y `bs_get_text_kwargs` para analizar específicamente solo el contenido de Markdown dentro de la clase `theme-doc-markdown` y para usar separadores y eliminaciones personalizados."
      ],
      "metadata": {
        "id": "u_gggY9NKjPn"
      }
    },
    {
      "cell_type": "code",
      "source": [
        "loader = WebBaseLoader(\n",
        "    web_paths=[page_url],\n",
        "    bs_kwargs={\n",
        "        \"parse_only\": bs4.SoupStrainer(id=\"testId-pod-displaySubTitle-119108473\", class_=\"jsx-682461353 copy2 primary  jsx-233704000 normal   line-clamp line-clamp-3      pod-subTitle subTitle-rebrand\"),\n",
        "    },\n",
        "    bs_get_text_kwargs={\"separator\": \" | \", \"strip\": True},\n",
        ")\n",
        "\n",
        "docs = []\n",
        "async for doc in loader.alazy_load():\n",
        "    docs.append(doc)\n",
        "\n",
        "assert len(docs) == 1\n",
        "doc = docs[0]"
      ],
      "metadata": {
        "colab": {
          "base_uri": "https://localhost:8080/"
        },
        "id": "rYlLVL38KiIe",
        "outputId": "58a6bdf7-c8d4-4d28-f357-66a01db03c98"
      },
      "execution_count": 5,
      "outputs": [
        {
          "output_type": "stream",
          "name": "stderr",
          "text": [
            "Fetching pages: 100%|##########| 1/1 [00:01<00:00,  1.19s/it]\n"
          ]
        }
      ]
    },
    {
      "cell_type": "markdown",
      "source": [
        "Esta celda imprime los metadatos del documento cargado y los primeros 500 caracteres de su contenido para proporcionar una vista previa de los datos."
      ],
      "metadata": {
        "id": "GT7L78PwKD-0"
      }
    },
    {
      "cell_type": "code",
      "source": [
        "print(f\"{doc.metadata}\\n\")\n",
        "print(doc.page_content[:1000].strip())"
      ],
      "metadata": {
        "colab": {
          "base_uri": "https://localhost:8080/"
        },
        "id": "IuiOcupNKAfZ",
        "outputId": "e29f6c66-8de6-4be5-ec3c-dc1faf49023f"
      },
      "execution_count": 6,
      "outputs": [
        {
          "output_type": "stream",
          "name": "stdout",
          "text": [
            "{'source': 'https://www.sodimac.cl/sodimac-cl/marca/CREST'}\n",
            "\n",
            "Adhesivo Cerámica Piso Superficie Rígido 25 kg\n"
          ]
        }
      ]
    }
  ]
}