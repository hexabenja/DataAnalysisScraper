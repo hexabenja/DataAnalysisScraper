{
  "nbformat": 4,
  "nbformat_minor": 0,
  "metadata": {
    "colab": {
      "provenance": [],
      "authorship_tag": "ABX9TyNEYLbDhVUrtwLxAC5S7cMU",
      "include_colab_link": true
    },
    "kernelspec": {
      "name": "python3",
      "display_name": "Python 3"
    },
    "language_info": {
      "name": "python"
    }
  },
  "cells": [
    {
      "cell_type": "markdown",
      "metadata": {
        "id": "view-in-github",
        "colab_type": "text"
      },
      "source": [
        "<a href=\"https://colab.research.google.com/github/hexabenja/DataAnalysisScraper/blob/main/DataWebScr4per.ipynb\" target=\"_parent\"><img src=\"https://colab.research.google.com/assets/colab-badge.svg\" alt=\"Open In Colab\"/></a>"
      ]
    },
    {
      "cell_type": "markdown",
      "source": [
        "\n",
        "Esta celda instala las bibliotecas necesarias para el web scraping con Langchain, incluidas langchain-community y beautifulsoup4."
      ],
      "metadata": {
        "id": "Afws6J-fCK6C"
      }
    },
    {
      "cell_type": "code",
      "source": [
        "%pip install -qU langchain-community beautifulsoup4"
      ],
      "metadata": {
        "id": "2pGcGvrkCPBP"
      },
      "execution_count": null,
      "outputs": []
    },
    {
      "cell_type": "markdown",
      "source": [
        "Esta celda importa bs4 y WebBaseLoader para cargar contenido de una página web específica (En este ejemplo catálogo CREST de sodimac)."
      ],
      "metadata": {
        "id": "1poUcbPvBdVT"
      }
    },
    {
      "cell_type": "code",
      "execution_count": null,
      "metadata": {
        "id": "2EC1I3T-A2IN"
      },
      "outputs": [],
      "source": [
        "from langchain_community.document_loaders import WebBaseLoader\n",
        "import bs4"
      ]
    },
    {
      "cell_type": "markdown",
      "source": [
        " Inicializa el loader con la URL y obtiene el documento de forma asíncrona."
      ],
      "metadata": {
        "id": "ktVhGl4PChkr"
      }
    },
    {
      "cell_type": "code",
      "source": [
        "page_url = \"https://www.sodimac.cl/sodimac-cl/marca/CREST\"\n",
        "\n",
        "loader = WebBaseLoader(web_paths=[page_url])\n",
        "docs = []\n",
        "async for doc in loader.alazy_load():\n",
        "    docs.append(doc)\n",
        "\n",
        "assert len(docs) == 1\n",
        "doc = docs[0]"
      ],
      "metadata": {
        "id": "WWphbQ6fCNEf"
      },
      "execution_count": null,
      "outputs": []
    }
  ]
}