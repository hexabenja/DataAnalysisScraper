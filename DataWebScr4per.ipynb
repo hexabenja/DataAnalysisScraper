{
  "nbformat": 4,
  "nbformat_minor": 0,
  "metadata": {
    "colab": {
      "provenance": [],
      "authorship_tag": "ABX9TyNWzF8MYZXRapIfNhEtjFeH",
      "include_colab_link": true
    },
    "kernelspec": {
      "name": "python3",
      "display_name": "Python 3"
    },
    "language_info": {
      "name": "python"
    }
  },
  "cells": [
    {
      "cell_type": "markdown",
      "metadata": {
        "id": "view-in-github",
        "colab_type": "text"
      },
      "source": [
        "<a href=\"https://colab.research.google.com/github/hexabenja/DataAnalysisScraper/blob/main/DataWebScr4per.ipynb\" target=\"_parent\"><img src=\"https://colab.research.google.com/assets/colab-badge.svg\" alt=\"Open In Colab\"/></a>"
      ]
    },
    {
      "cell_type": "markdown",
      "source": [
        "# Nueva sección"
      ],
      "metadata": {
        "id": "nyY2A4ACG6xX"
      }
    },
    {
      "cell_type": "markdown",
      "source": [
        "\n",
        "Esta celda instala las bibliotecas necesarias para el web scraping con Langchain, incluidas langchain-community y beautifulsoup4."
      ],
      "metadata": {
        "id": "Afws6J-fCK6C"
      }
    },
    {
      "cell_type": "code",
      "source": [
        "%pip install -qU langchain-community beautifulsoup4\n",
        "%pip install -qU langchain-unstructured"
      ],
      "metadata": {
        "id": "2pGcGvrkCPBP",
        "colab": {
          "base_uri": "https://localhost:8080/"
        },
        "outputId": "37b897b6-9fe9-45ef-955d-d8b305a17cc2"
      },
      "execution_count": 14,
      "outputs": [
        {
          "output_type": "stream",
          "name": "stdout",
          "text": [
            "\u001b[2K   \u001b[90m━━━━━━━━━━━━━━━━━━━━━━━━━━━━━━━━━━━━━━━━\u001b[0m \u001b[32m13.2/13.2 MB\u001b[0m \u001b[31m98.1 MB/s\u001b[0m eta \u001b[36m0:00:00\u001b[0m\n",
            "\u001b[2K   \u001b[90m━━━━━━━━━━━━━━━━━━━━━━━━━━━━━━━━━━━━━━━━\u001b[0m \u001b[32m207.8/207.8 kB\u001b[0m \u001b[31m16.7 MB/s\u001b[0m eta \u001b[36m0:00:00\u001b[0m\n",
            "\u001b[2K   \u001b[90m━━━━━━━━━━━━━━━━━━━━━━━━━━━━━━━━━━━━━━━━\u001b[0m \u001b[32m310.5/310.5 kB\u001b[0m \u001b[31m20.9 MB/s\u001b[0m eta \u001b[36m0:00:00\u001b[0m\n",
            "\u001b[2K   \u001b[90m━━━━━━━━━━━━━━━━━━━━━━━━━━━━━━━━━━━━━━━━\u001b[0m \u001b[32m46.0/46.0 kB\u001b[0m \u001b[31m3.0 MB/s\u001b[0m eta \u001b[36m0:00:00\u001b[0m\n",
            "\u001b[2K   \u001b[90m━━━━━━━━━━━━━━━━━━━━━━━━━━━━━━━━━━━━━━━━\u001b[0m \u001b[32m86.8/86.8 kB\u001b[0m \u001b[31m6.8 MB/s\u001b[0m eta \u001b[36m0:00:00\u001b[0m\n",
            "\u001b[?25h"
          ]
        }
      ]
    },
    {
      "cell_type": "markdown",
      "source": [
        "Esta celda importa bs4 y WebBaseLoader para cargar contenido de una página web específica (En este ejemplo catálogo CREST de sodimac)."
      ],
      "metadata": {
        "id": "1poUcbPvBdVT"
      }
    },
    {
      "cell_type": "code",
      "execution_count": 15,
      "metadata": {
        "id": "2EC1I3T-A2IN"
      },
      "outputs": [],
      "source": [
        "from langchain_community.document_loaders import WebBaseLoader\n",
        "import bs4"
      ]
    },
    {
      "cell_type": "markdown",
      "source": [
        " Inicializa el loader con la URL y obtiene el documento de forma asíncrona."
      ],
      "metadata": {
        "id": "ktVhGl4PChkr"
      }
    },
    {
      "cell_type": "code",
      "source": [
        "page_url = \"https://www.sodimac.cl/sodimac-cl/marca/CREST\"\n",
        "\n",
        "loader = WebBaseLoader(web_paths=[page_url])\n",
        "docs = []\n",
        "async for doc in loader.alazy_load():\n",
        "    docs.append(doc)\n",
        "\n",
        "assert len(docs)"
      ],
      "metadata": {
        "id": "WWphbQ6fCNEf",
        "colab": {
          "base_uri": "https://localhost:8080/"
        },
        "outputId": "dbdabc30-8848-4ffa-e25d-f97c562273be"
      },
      "execution_count": 20,
      "outputs": [
        {
          "output_type": "stream",
          "name": "stderr",
          "text": [
            "Fetching pages: 100%|##########| 1/1 [00:01<00:00,  1.28s/it]\n"
          ]
        }
      ]
    },
    {
      "cell_type": "markdown",
      "source": [
        "Esta celda inicializa WebBaseLoader nuevamente, pero esta vez con parámetros adicionales para `bs_kwargs` y `bs_get_text_kwargs` para analizar específicamente solo el contenido de Markdown dentro de la clase `theme-doc-markdown` y para usar separadores y eliminaciones personalizados."
      ],
      "metadata": {
        "id": "u_gggY9NKjPn"
      }
    },
    {
      "cell_type": "code",
      "source": [
        "loader = WebBaseLoader(\n",
        "    web_paths=[page_url],\n",
        "    bs_kwargs={\n",
        "        \"parse_only\": bs4.SoupStrainer(id=\"testId-searchResults-products\", class_=\"jsx-636341914 search-results--products\"),\n",
        "    },\n",
        "    bs_get_text_kwargs={\"separator\": \",\", \"strip\": True},\n",
        ")\n",
        "\n",
        "docs = []\n",
        "async for doc in loader.alazy_load():\n",
        "    docs.append(doc)\n",
        "\n",
        "assert len(docs) == 1\n",
        "doc = docs[0]"
      ],
      "metadata": {
        "id": "rYlLVL38KiIe",
        "colab": {
          "base_uri": "https://localhost:8080/"
        },
        "outputId": "6dc300ea-d896-4dd3-a249-79b74001e36a"
      },
      "execution_count": 27,
      "outputs": [
        {
          "output_type": "stream",
          "name": "stderr",
          "text": [
            "Fetching pages: 100%|##########| 1/1 [00:02<00:00,  2.12s/it]\n"
          ]
        }
      ]
    },
    {
      "cell_type": "markdown",
      "source": [
        "Esta celda imprime los metadatos del documento cargado y los primeros 500 caracteres de su contenido para proporcionar una vista previa de los datos."
      ],
      "metadata": {
        "id": "GT7L78PwKD-0"
      }
    },
    {
      "cell_type": "code",
      "source": [
        "print(f\"{doc.metadata}\\n\")\n",
        "print(doc.page_content[:1000].strip())"
      ],
      "metadata": {
        "id": "IuiOcupNKAfZ",
        "colab": {
          "base_uri": "https://localhost:8080/"
        },
        "outputId": "5707e090-43e6-45c4-f95f-7ac58d175e05"
      },
      "execution_count": 28,
      "outputs": [
        {
          "output_type": "stream",
          "name": "stdout",
          "text": [
            "{'source': 'https://www.sodimac.cl/sodimac-cl/marca/CREST'}\n",
            "\n",
            "CREST,Adhesivo Porcelanato Piso y muro Superficie Rígido 25 kg,Por Sodimac,$  8.590,6,cuotas sin interés,(78),Agregar al Carro,CREST,Adhesivo Cerámica Piso y muro Superficie Rígido 20 kg,Por Sodimac,$  4.581,6,cuotas sin interés,Llega mañana,(13),Agregar al Carro,CREST,Adhesivo Cerámica Piso Superficie Rígido 25 kg,Por Sodimac,$  3.000,6,cuotas sin interés,(79),Agregar al Carro,CREST,Adhesivo Cerámica Muro Superficie Flexible 25 kg,Por Sodimac,$  19.290,6,cuotas sin interés,(29),Agregar al Carro,CREST,Adhesivo Cerámica Piso y muro Superficie Rígido 20 kg,Por Sodimac,$  6.785,6,cuotas sin interés,Llega mañana,(19),Agregar al Carro,CREST,Adhesivo Cerámica Piso Superficie Rígido 10 kg,Por Sodimac,$  8.394,6,cuotas sin interés,(26),Agregar al Carro,CREST,Adhesivo Cerámica Ac Muro Superficie Flexible 15 kg,Por Sodimac,$  15.432,6,cuotas sin interés,Llega mañana,(20),Agregar al Carro,CREST,Adhesivo Piedra Piso y muro Superficie Flexible 20 kg,Por Sodimac,$  20.990,6,cuotas sin interés,Llega\n"
          ]
        }
      ]
    }
  ]
}